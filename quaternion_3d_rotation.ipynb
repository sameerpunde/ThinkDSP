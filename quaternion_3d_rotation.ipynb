{
  "nbformat": 4,
  "nbformat_minor": 0,
  "metadata": {
    "colab": {
      "name": "quaternion_3d_rotation.ipynb",
      "provenance": [],
      "collapsed_sections": [],
      "authorship_tag": "ABX9TyMOr3WcODxUj96t1WWUyCfn",
      "include_colab_link": true
    },
    "kernelspec": {
      "name": "python3",
      "display_name": "Python 3"
    }
  },
  "cells": [
    {
      "cell_type": "markdown",
      "metadata": {
        "id": "view-in-github",
        "colab_type": "text"
      },
      "source": [
        "<a href=\"https://colab.research.google.com/github/sameerpunde/ThinkDSP/blob/master/quaternion_3d_rotation.ipynb\" target=\"_parent\"><img src=\"https://colab.research.google.com/assets/colab-badge.svg\" alt=\"Open In Colab\"/></a>"
      ]
    },
    {
      "cell_type": "markdown",
      "metadata": {
        "id": "mHY0FwE97dBh"
      },
      "source": [
        "Detailed information on - https://www.meccanismocomplesso.org/en/hamiltons-quaternions-and-3d-rotation-with-python/"
      ]
    },
    {
      "cell_type": "markdown",
      "metadata": {
        "id": "DcNYbYRN7mCu"
      },
      "source": [
        "Import necessary libraries"
      ]
    },
    {
      "cell_type": "code",
      "metadata": {
        "id": "JkhLTZyJ7kdN"
      },
      "source": [
        "import math as m\r\n",
        "import numpy as np\r\n",
        "import matplotlib.pyplot as plt"
      ],
      "execution_count": null,
      "outputs": []
    },
    {
      "cell_type": "markdown",
      "metadata": {
        "id": "bldqWQcU73FG"
      },
      "source": [
        "Create functions or definitions"
      ]
    },
    {
      "cell_type": "code",
      "metadata": {
        "id": "0L-G2--59Ju2"
      },
      "source": [
        "# convert euler angles to a quaternion\r\n",
        "\r\n",
        "def euler_to_quaternion(phi, theta, psi):\r\n",
        " \r\n",
        "        qw = m.cos(phi/2) * m.cos(theta/2) * m.cos(psi/2) + m.sin(phi/2) * m.sin(theta/2) * m.sin(psi/2)\r\n",
        "        qx = m.sin(phi/2) * m.cos(theta/2) * m.cos(psi/2) - m.cos(phi/2) * m.sin(theta/2) * m.sin(psi/2)\r\n",
        "        qy = m.cos(phi/2) * m.sin(theta/2) * m.cos(psi/2) + m.sin(phi/2) * m.cos(theta/2) * m.sin(psi/2)\r\n",
        "        qz = m.cos(phi/2) * m.cos(theta/2) * m.sin(psi/2) - m.sin(phi/2) * m.sin(theta/2) * m.cos(psi/2)\r\n",
        " \r\n",
        "        return [qw, qx, qy, qz]"
      ],
      "execution_count": null,
      "outputs": []
    },
    {
      "cell_type": "code",
      "metadata": {
        "id": "8OkGuDTF9J_x"
      },
      "source": [
        "# get quaternion conjugate\r\n",
        "\r\n",
        "def q_conjugate(q):\r\n",
        "    w, x, y, z = q\r\n",
        "    return (w, -x, -y, -z)"
      ],
      "execution_count": null,
      "outputs": []
    },
    {
      "cell_type": "code",
      "metadata": {
        "id": "NIUsWQdY9KHy"
      },
      "source": [
        "# multiply 2 quaternions\r\n",
        "\r\n",
        "def q_mult(q1, q2):\r\n",
        "    w1, x1, y1, z1 = q1\r\n",
        "    w2, x2, y2, z2 = q2\r\n",
        "    w = w1 * w2 - x1 * x2 - y1 * y2 - z1 * z2\r\n",
        "    x = w1 * x2 + x1 * w2 + y1 * z2 - z1 * y2\r\n",
        "    y = w1 * y2 + y1 * w2 + z1 * x2 - x1 * z2\r\n",
        "    z = w1 * z2 + z1 * w2 + x1 * y2 - y1 * x2\r\n",
        "    return w, x, y, z"
      ],
      "execution_count": null,
      "outputs": []
    },
    {
      "cell_type": "code",
      "metadata": {
        "id": "2oVPUdaw9KNB"
      },
      "source": [
        "# multiply quaternion and a coordinate vector\r\n",
        "\r\n",
        "def qv_mult(q1, v1):\r\n",
        "    q2 = (0.0,) + v1\r\n",
        "    return q_mult(q_mult(q1, q2), q_conjugate(q1))[1:]"
      ],
      "execution_count": null,
      "outputs": []
    },
    {
      "cell_type": "code",
      "metadata": {
        "id": "Mf_t1bKm8H1v"
      },
      "source": [
        "# convert Quaternion to Euler angles \r\n",
        "\r\n",
        "def quaternion_to_euler(w, x, y, z):\r\n",
        " \r\n",
        "        t0 = 2 * (w * x + y * z)\r\n",
        "        t1 = 1 - 2 * (x * x + y * y)\r\n",
        "        X = m.atan2(t0, t1)\r\n",
        " \r\n",
        "        t2 = 2 * (w * y - z * x)\r\n",
        "        t2 = 1 if t2 > 1 else t2\r\n",
        "        t2 = -1 if t2 < -1 else t2\r\n",
        "        Y = m.asin(t2)\r\n",
        "         \r\n",
        "        t3 = 2 * (w * z + x * y)\r\n",
        "        t4 = 1 - 2 * (y * y + z * z)\r\n",
        "        Z = m.atan2(t3, t4)\r\n",
        " \r\n",
        "        return X, Y, Z\r\n"
      ],
      "execution_count": null,
      "outputs": []
    },
    {
      "cell_type": "markdown",
      "metadata": {
        "id": "KYOCewoX_g6I"
      },
      "source": [
        "Example – the rotation of a point in space\r\n",
        "We will now take the same example we did with Euler’s transformations, but this time using quaternions instead of the rotation matrix R.\r\n",
        "\r\n",
        "The simplest example of application of what we have already seen in the article is the rotation of a point located in a coordinate space (X, Y, Z). A point in space can be represented by a 3-element vector that characterizes its values on the three coordinate axes.\r\n",
        "\r\n",
        " v = \\begin{bmatrix} x \\\\ y \\\\ z \\end{bmatrix} \r\n",
        "\r\n",
        "So for our example, we will start from a simple point on the X axis described by the following vector. Which is the same as the example with Euler’s angles.\r\n",
        "\r\n",
        " v = \\begin{bmatrix} 1 \\\\ 0 \\\\ 0 \\end{bmatrix} \r\n",
        "\r\n",
        "Let’s express the vector as a tuple this time:"
      ]
    },
    {
      "cell_type": "code",
      "metadata": {
        "id": "swI8JW-Y_qTx"
      },
      "source": [
        "v1 = (1,0,0)"
      ],
      "execution_count": null,
      "outputs": []
    },
    {
      "cell_type": "markdown",
      "metadata": {
        "id": "O6cRH8_9AOO3"
      },
      "source": [
        "Now to obtain the quaternion that is equivalent to the same rotation of the example with the Euler angles, we will use the latter and convert them into the corresponding quaternion using the function we have just defined. So let’s first define the three Euler angles and then convert them into the quaternion whose terms we are going to visualize."
      ]
    },
    {
      "cell_type": "code",
      "metadata": {
        "id": "Pwo2YTK0Abf1"
      },
      "source": [
        "phi = m.pi/2\r\n",
        "theta = m.pi/4\r\n",
        "psi = m.pi/2\r\n",
        "q = euler_to_quaternion(phi, theta, psi)\r\n",
        "print(\"w =\", q[0])\r\n",
        "print(\"x =\", q[1])\r\n",
        "print(\"y =\", q[2])\r\n",
        "print(\"z =\", q[3])"
      ],
      "execution_count": null,
      "outputs": []
    },
    {
      "cell_type": "markdown",
      "metadata": {
        "id": "9NybRxEfAfvR"
      },
      "source": [
        "Now let’s do the multiplication between vector and quaternion"
      ]
    },
    {
      "cell_type": "code",
      "metadata": {
        "id": "oE36fqrEAzRD"
      },
      "source": [
        "v2 = qv_mult(q,v1)\r\n",
        "print(np.round(v2, decimals=2))"
      ],
      "execution_count": null,
      "outputs": []
    },
    {
      "cell_type": "markdown",
      "metadata": {
        "id": "L-3vAdmFBHXe"
      },
      "source": [
        "Let’s see the result of our rotation by plotting the position of the vector (which describes the point) before and after the rotation on a graph with Cartesian axes.\r\n",
        "\r\n",
        "Vector display before (blue) and after rotation (red).\r\n",
        "From here you can then move on to the rotation of lines, geometric figures and three-dimensional objects. All at the basis of the 3D engines with which many video games are developed."
      ]
    },
    {
      "cell_type": "code",
      "metadata": {
        "id": "xVkIbBI8BfKy"
      },
      "source": [
        "import matplotlib.pyplot as plt\r\n",
        "  \r\n",
        "fig = plt.figure()\r\n",
        "ax = fig.add_subplot(111, projection='3d')\r\n",
        "# Cartesian axes\r\n",
        "ax.quiver(-1, 0, 0, 3, 0, 0, color='#aaaaaa',linestyle='dashed')\r\n",
        "ax.quiver(0, -1, 0, 0,3, 0, color='#aaaaaa',linestyle='dashed')\r\n",
        "ax.quiver(0, 0, -1, 0, 0, 3, color='#aaaaaa',linestyle='dashed')\r\n",
        "# Vector before rotation\r\n",
        "ax.quiver(0, 0, 0, 1, 0, 0, color='b')\r\n",
        "# Vector after rotation\r\n",
        "ax.quiver(0, 0, 0, 0, 0.71, -0.71, color='r')\r\n",
        "ax.set_xlim([-1.5, 1.5])\r\n",
        "ax.set_ylim([-1.5, 1.5])\r\n",
        "ax.set_zlim([-1.5, 1.5])\r\n",
        "plt.show()"
      ],
      "execution_count": null,
      "outputs": []
    },
    {
      "cell_type": "markdown",
      "metadata": {
        "id": "FOzNfLCCB7mS"
      },
      "source": [
        "# **Advantages of using quaternions with respect to Euler angles**\r\n",
        "\r\n",
        "The use of quaternions instead of Euler angles when it comes to calculating the rotation in a three-dimensional space leads to some advantages. Let’s see in detail what they are.\r\n",
        "\r\n",
        "For the calculation of a rotation with Euler angles, 9 parameters are required, while for quaternions only 4 parameters are needed.\r\n",
        "\r\n",
        "The rotation with Euler angles consists of a sequence of elementary rotations around one of the three Cartesian axes with many possible combinations. This requires different equations and resolutions for each case. While the rotation through quaternions is unique.\r\n",
        "\r\n",
        "Quaternion rotation is not subject to gimbal lock."
      ]
    }
  ]
}
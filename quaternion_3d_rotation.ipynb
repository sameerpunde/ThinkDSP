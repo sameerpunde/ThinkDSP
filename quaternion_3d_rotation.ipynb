{
  "nbformat": 4,
  "nbformat_minor": 0,
  "metadata": {
    "colab": {
      "name": "Untitled0.ipynb",
      "provenance": [],
      "collapsed_sections": [],
      "authorship_tag": "ABX9TyPzW+ThTioXZS8NaZRB1KlY",
      "include_colab_link": true
    },
    "kernelspec": {
      "name": "python3",
      "display_name": "Python 3"
    }
  },
  "cells": [
    {
      "cell_type": "markdown",
      "metadata": {
        "id": "view-in-github",
        "colab_type": "text"
      },
      "source": [
        "<a href=\"https://colab.research.google.com/github/sameerpunde/ThinkDSP/blob/master/quaternion_3d_rotation.ipynb\" target=\"_parent\"><img src=\"https://colab.research.google.com/assets/colab-badge.svg\" alt=\"Open In Colab\"/></a>"
      ]
    },
    {
      "cell_type": "markdown",
      "metadata": {
        "id": "mHY0FwE97dBh"
      },
      "source": [
        "Detailed information on - https://www.meccanismocomplesso.org/en/hamiltons-quaternions-and-3d-rotation-with-python/"
      ]
    },
    {
      "cell_type": "markdown",
      "metadata": {
        "id": "DcNYbYRN7mCu"
      },
      "source": [
        "Import necessary libraries"
      ]
    },
    {
      "cell_type": "code",
      "metadata": {
        "id": "JkhLTZyJ7kdN"
      },
      "source": [
        "import math as m\r\n",
        "import numpy as np"
      ],
      "execution_count": null,
      "outputs": []
    },
    {
      "cell_type": "markdown",
      "metadata": {
        "id": "bldqWQcU73FG"
      },
      "source": [
        "Create functions or definitions"
      ]
    },
    {
      "cell_type": "code",
      "metadata": {
        "id": "0L-G2--59Ju2"
      },
      "source": [
        "# convert euler angles to a quaternion\r\n",
        "\r\n",
        "def euler_to_quaternion(phi, theta, psi):\r\n",
        " \r\n",
        "        qw = m.cos(phi/2) * m.cos(theta/2) * m.cos(psi/2) + m.sin(phi/2) * m.sin(theta/2) * m.sin(psi/2)\r\n",
        "        qx = m.sin(phi/2) * m.cos(theta/2) * m.cos(psi/2) - m.cos(phi/2) * m.sin(theta/2) * m.sin(psi/2)\r\n",
        "        qy = m.cos(phi/2) * m.sin(theta/2) * m.cos(psi/2) + m.sin(phi/2) * m.cos(theta/2) * m.sin(psi/2)\r\n",
        "        qz = m.cos(phi/2) * m.cos(theta/2) * m.sin(psi/2) - m.sin(phi/2) * m.sin(theta/2) * m.cos(psi/2)\r\n",
        " \r\n",
        "        return [qw, qx, qy, qz]"
      ],
      "execution_count": null,
      "outputs": []
    },
    {
      "cell_type": "code",
      "metadata": {
        "id": "8OkGuDTF9J_x"
      },
      "source": [
        "# get quaternion conjugate\r\n",
        "\r\n",
        "def q_conjugate(q):\r\n",
        "    w, x, y, z = q\r\n",
        "    return (w, -x, -y, -z)"
      ],
      "execution_count": null,
      "outputs": []
    },
    {
      "cell_type": "code",
      "metadata": {
        "id": "NIUsWQdY9KHy"
      },
      "source": [
        "# multiply 2 quaternions\r\n",
        "\r\n",
        "def q_mult(q1, q2):\r\n",
        "    w1, x1, y1, z1 = q1\r\n",
        "    w2, x2, y2, z2 = q2\r\n",
        "    w = w1 * w2 - x1 * x2 - y1 * y2 - z1 * z2\r\n",
        "    x = w1 * x2 + x1 * w2 + y1 * z2 - z1 * y2\r\n",
        "    y = w1 * y2 + y1 * w2 + z1 * x2 - x1 * z2\r\n",
        "    z = w1 * z2 + z1 * w2 + x1 * y2 - y1 * x2\r\n",
        "    return w, x, y, z"
      ],
      "execution_count": null,
      "outputs": []
    },
    {
      "cell_type": "code",
      "metadata": {
        "id": "2oVPUdaw9KNB"
      },
      "source": [
        "# multiply quaternion and a coordinate vector\r\n",
        "\r\n",
        "def qv_mult(q1, v1):\r\n",
        "    q2 = (0.0,) + v1\r\n",
        "    return q_mult(q_mult(q1, q2), q_conjugate(q1))[1:]"
      ],
      "execution_count": null,
      "outputs": []
    },
    {
      "cell_type": "code",
      "metadata": {
        "id": "Mf_t1bKm8H1v"
      },
      "source": [
        "# convert Quaternion to Euler angles \r\n",
        "\r\n",
        "def quaternion_to_euler(w, x, y, z):\r\n",
        " \r\n",
        "        t0 = 2 * (w * x + y * z)\r\n",
        "        t1 = 1 - 2 * (x * x + y * y)\r\n",
        "        X = m.atan2(t0, t1)\r\n",
        " \r\n",
        "        t2 = 2 * (w * y - z * x)\r\n",
        "        t2 = 1 if t2 > 1 else t2\r\n",
        "        t2 = -1 if t2 < -1 else t2\r\n",
        "        Y = m.asin(t2)\r\n",
        "         \r\n",
        "        t3 = 2 * (w * z + x * y)\r\n",
        "        t4 = 1 - 2 * (y * y + z * z)\r\n",
        "        Z = m.atan2(t3, t4)\r\n",
        " \r\n",
        "        return X, Y, Z\r\n"
      ],
      "execution_count": null,
      "outputs": []
    },
    {
      "cell_type": "markdown",
      "metadata": {
        "id": "KYOCewoX_g6I"
      },
      "source": [
        "Example – the rotation of a point in space\r\n",
        "We will now take the same example we did with Euler’s transformations, but this time using quaternions instead of the rotation matrix R.\r\n",
        "\r\n",
        "The simplest example of application of what we have already seen in the article is the rotation of a point located in a coordinate space (X, Y, Z). A point in space can be represented by a 3-element vector that characterizes its values on the three coordinate axes.\r\n",
        "\r\n",
        " v = \\begin{bmatrix} x \\\\ y \\\\ z \\end{bmatrix} \r\n",
        "\r\n",
        "So for our example, we will start from a simple point on the X axis described by the following vector. Which is the same as the example with Euler’s angles.\r\n",
        "\r\n",
        " v = \\begin{bmatrix} 1 \\\\ 0 \\\\ 0 \\end{bmatrix} \r\n",
        "\r\n",
        "Let’s express the vector as a tuple this time:"
      ]
    },
    {
      "cell_type": "code",
      "metadata": {
        "id": "swI8JW-Y_qTx"
      },
      "source": [
        "v1 = (1,0,0)"
      ],
      "execution_count": null,
      "outputs": []
    },
    {
      "cell_type": "code",
      "metadata": {
        "id": "w94Xm-Kg_ykh"
      },
      "source": [
        ""
      ],
      "execution_count": null,
      "outputs": []
    }
  ]
}